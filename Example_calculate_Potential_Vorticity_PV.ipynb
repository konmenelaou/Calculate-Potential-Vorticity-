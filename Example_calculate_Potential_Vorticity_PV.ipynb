{
 "cells": [
  {
   "cell_type": "markdown",
   "metadata": {},
   "source": [
    "# Calculate Potential Vorticity (PV)\n",
    "# The following example makes use of a typical output file from the Weather Research and Forecasting (WRF) model. \n",
    "# Input file format: NetCDF "
   ]
  },
  {
   "cell_type": "markdown",
   "metadata": {},
   "source": [
    "$$q_{p} = -g\\left(f\\mathbf{k} + \\nabla_{p} \\times \\mathbf{v} \\right)\\cdot \\nabla_{p}\\theta$$"
   ]
  },
  {
   "cell_type": "markdown",
   "metadata": {},
   "source": [
    "$$ \\mathbf{v} \\equiv (u, v) $$\n",
    "$$ \\nabla_{p} \\equiv \\left( \\partial_{x}, \\partial_{y}, \\partial_{p} \\right) $$"
   ]
  },
  {
   "cell_type": "code",
   "execution_count": 1,
   "metadata": {
    "collapsed": true
   },
   "outputs": [],
   "source": [
    "from __future__ import print_function\n",
    "from netCDF4 import Dataset\n",
    "%matplotlib inline\n",
    "import matplotlib.pyplot as plt\n",
    "import numpy as np"
   ]
  },
  {
   "cell_type": "code",
   "execution_count": 2,
   "metadata": {
    "collapsed": true
   },
   "outputs": [],
   "source": [
    "ncfile = Dataset(\"/Users/konmenelaou/Desktop/PYTHON/WORKcalculations/wrfout_d03_1111-01-01_00:00:00\")\n",
    "#unstagger U and V\n",
    "u0 = ncfile.variables['U'][:,:,:,:]\n",
    "U = ( u0[ :, :, :, :-1 ] + u0[ :, :, :, 1: ] ) / 2\n",
    "v0 = ncfile.variables['V'][:,:,:,:]\n",
    "V = ( v0[ :, :, :-1, : ] + v0[ :, :, 1:, : ] ) / 2\n",
    "\n",
    "#full pressure\n",
    "p0 = ncfile.variables['P'][:,:,:,:]\n",
    "pb0 = ncfile.variables['PB'][:,:,:,:]\n",
    "P = p0 + pb0\n",
    "\n",
    "#Potential temperature\n",
    "t0 = ncfile.variables['T'][:,:,:,:]\n",
    "TH = t0 + 300\n",
    "\n",
    "#Coriolis Parameter\n",
    "F = ncfile.variables['F'][:,:,:]\n",
    "\n",
    "#The grid spacing here is dx=dy=666.66 meters (already known)\n",
    "dx = 666.66"
   ]
  },
  {
   "cell_type": "code",
   "execution_count": 3,
   "metadata": {
    "collapsed": true
   },
   "outputs": [],
   "source": [
    "#consider only an instantaneous field for this example: t=0\n",
    "U3d = U[0,:,:,:]\n",
    "V3d = V[0,:,:,:]\n",
    "P3d = P[0,:,:,:]\n",
    "TH3d = TH[0,:,:,:]\n",
    "F2d = F[0,:,:]"
   ]
  },
  {
   "cell_type": "code",
   "execution_count": 4,
   "metadata": {
    "collapsed": true
   },
   "outputs": [],
   "source": [
    "#################\n",
    "def wrf_pv( U, V, F, THETA, PRES, dx ):\n",
    "    dy = dx\n",
    "    grav = 9.8\n",
    "\n",
    "    dVp,dVy,dVx = np.gradient( V )\n",
    "    dUp,dUy,dUx = np.gradient( U )\n",
    "    dTp,dTy,dTx = np.gradient( THETA )\n",
    "    dp,dPy,dPx = np.gradient( PRES )\n",
    "    return ( -grav * ( -dVp/dp * dTx/dx + dUp/dp * dTy/dy + ( dVx/dx - dUy/dy + F ) * dTp/dp ) ) * pow(10, 6)\n",
    "# * pow(10, 6) = returns PV in common PVU units \n",
    "#################"
   ]
  },
  {
   "cell_type": "code",
   "execution_count": 5,
   "metadata": {
    "collapsed": true
   },
   "outputs": [],
   "source": [
    "PV = wrf_pv(U3d, V3d, F2d, TH3d, P3d,  dx )"
   ]
  },
  {
   "cell_type": "code",
   "execution_count": 6,
   "metadata": {
    "collapsed": true
   },
   "outputs": [],
   "source": [
    "#create a suitable meshgrid in km which is centered in the middle of the domain \n",
    "zDIM, yDIM, xDIM = PV.shape\n",
    "x = np.linspace(1, xDIM, xDIM)\n",
    "y = np.linspace(1, yDIM, yDIM)\n",
    "x = (x - xDIM/2)*dx/1000\n",
    "y = (y - yDIM/2)*dx/1000\n",
    "X, Y = np.meshgrid(x, y)"
   ]
  },
  {
   "cell_type": "code",
   "execution_count": 7,
   "metadata": {},
   "outputs": [
    {
     "data": {
      "image/png": "[encoded data removed]",
      "text/plain": [
       "<matplotlib.figure.Figure at 0x1092d0438>"
      ]
     },
     "metadata": {},
     "output_type": "display_data"
    }
   ],
   "source": [
    "#plot PV at a selected vertical level k=7 (arbitrary choice)\n",
    "PV2D = PV[7,:,:]\n",
    "fig = plt.figure()\n",
    "cmap = plt.get_cmap('PuOr')\n",
    "\n",
    "levelsH = np.arange(0, 40, 2.5)\n",
    "cset = plt.contourf(X, Y, PV2D, cmap=cmap, alpha=1.0)\n",
    "plt.colorbar()\n",
    "\n",
    "plt.xlim((-50, 50))\n",
    "plt.ylim((-50, 50))\n",
    "\n",
    "plt.xlabel('$X \\: (\\mathrm{km})$',fontsize=18)\n",
    "plt.ylabel('$Y \\: (\\mathrm{km})$',fontsize=18)\n",
    "\n",
    "plt.title('$q_{p} \\: (PVU)$',fontsize=20)\n",
    "\n",
    "plt.xticks(fontsize=16)\n",
    "plt.yticks(fontsize=16)\n",
    "\n",
    "plt.show()\n"
   ]
  },
  {
   "cell_type": "code",
   "execution_count": null,
   "metadata": {
    "collapsed": true
   },
   "outputs": [],
   "source": []
  }
 ],
 "metadata": {
  "kernelspec": {
   "display_name": "Python 3",
   "language": "python",
   "name": "python3"
  },
  "language_info": {
   "codemirror_mode": {
    "name": "ipython",
    "version": 3
   },
   "file_extension": ".py",
   "mimetype": "text/x-python",
   "name": "python",
   "nbconvert_exporter": "python",
   "pygments_lexer": "ipython3",
   "version": "3.6.6"
  }
 },
 "nbformat": 4,
 "nbformat_minor": 2
}
